{
  "nbformat": 4,
  "nbformat_minor": 0,
  "metadata": {
    "colab": {
      "provenance": []
    },
    "kernelspec": {
      "name": "python3",
      "display_name": "Python 3"
    },
    "language_info": {
      "name": "python"
    }
  },
  "cells": [
    {
      "cell_type": "code",
      "execution_count": 11,
      "metadata": {
        "colab": {
          "base_uri": "https://localhost:8080/"
        },
        "id": "9okW2AF7xjUM",
        "outputId": "c6ef7747-a5b9-4029-fd33-e12de673add0"
      },
      "outputs": [
        {
          "output_type": "stream",
          "name": "stdout",
          "text": [
            "Requirement already satisfied: google-generativeai in /usr/local/lib/python3.10/dist-packages (0.5.2)\n",
            "Requirement already satisfied: google-ai-generativelanguage==0.6.2 in /usr/local/lib/python3.10/dist-packages (from google-generativeai) (0.6.2)\n",
            "Requirement already satisfied: google-api-core in /usr/local/lib/python3.10/dist-packages (from google-generativeai) (2.11.1)\n",
            "Requirement already satisfied: google-api-python-client in /usr/local/lib/python3.10/dist-packages (from google-generativeai) (2.84.0)\n",
            "Requirement already satisfied: google-auth>=2.15.0 in /usr/local/lib/python3.10/dist-packages (from google-generativeai) (2.27.0)\n",
            "Requirement already satisfied: protobuf in /usr/local/lib/python3.10/dist-packages (from google-generativeai) (3.20.3)\n",
            "Requirement already satisfied: pydantic in /usr/local/lib/python3.10/dist-packages (from google-generativeai) (2.7.0)\n",
            "Requirement already satisfied: tqdm in /usr/local/lib/python3.10/dist-packages (from google-generativeai) (4.66.2)\n",
            "Requirement already satisfied: typing-extensions in /usr/local/lib/python3.10/dist-packages (from google-generativeai) (4.11.0)\n",
            "Requirement already satisfied: proto-plus<2.0.0dev,>=1.22.3 in /usr/local/lib/python3.10/dist-packages (from google-ai-generativelanguage==0.6.2->google-generativeai) (1.23.0)\n",
            "Requirement already satisfied: cachetools<6.0,>=2.0.0 in /usr/local/lib/python3.10/dist-packages (from google-auth>=2.15.0->google-generativeai) (5.3.3)\n",
            "Requirement already satisfied: pyasn1-modules>=0.2.1 in /usr/local/lib/python3.10/dist-packages (from google-auth>=2.15.0->google-generativeai) (0.4.0)\n",
            "Requirement already satisfied: rsa<5,>=3.1.4 in /usr/local/lib/python3.10/dist-packages (from google-auth>=2.15.0->google-generativeai) (4.9)\n",
            "Requirement already satisfied: googleapis-common-protos<2.0.dev0,>=1.56.2 in /usr/local/lib/python3.10/dist-packages (from google-api-core->google-generativeai) (1.63.0)\n",
            "Requirement already satisfied: requests<3.0.0.dev0,>=2.18.0 in /usr/local/lib/python3.10/dist-packages (from google-api-core->google-generativeai) (2.31.0)\n",
            "Requirement already satisfied: httplib2<1dev,>=0.15.0 in /usr/local/lib/python3.10/dist-packages (from google-api-python-client->google-generativeai) (0.22.0)\n",
            "Requirement already satisfied: google-auth-httplib2>=0.1.0 in /usr/local/lib/python3.10/dist-packages (from google-api-python-client->google-generativeai) (0.1.1)\n",
            "Requirement already satisfied: uritemplate<5,>=3.0.1 in /usr/local/lib/python3.10/dist-packages (from google-api-python-client->google-generativeai) (4.1.1)\n",
            "Requirement already satisfied: annotated-types>=0.4.0 in /usr/local/lib/python3.10/dist-packages (from pydantic->google-generativeai) (0.6.0)\n",
            "Requirement already satisfied: pydantic-core==2.18.1 in /usr/local/lib/python3.10/dist-packages (from pydantic->google-generativeai) (2.18.1)\n",
            "Requirement already satisfied: grpcio<2.0dev,>=1.33.2 in /usr/local/lib/python3.10/dist-packages (from google-api-core->google-generativeai) (1.62.2)\n",
            "Requirement already satisfied: grpcio-status<2.0.dev0,>=1.33.2 in /usr/local/lib/python3.10/dist-packages (from google-api-core->google-generativeai) (1.48.2)\n",
            "Requirement already satisfied: pyparsing!=3.0.0,!=3.0.1,!=3.0.2,!=3.0.3,<4,>=2.4.2 in /usr/local/lib/python3.10/dist-packages (from httplib2<1dev,>=0.15.0->google-api-python-client->google-generativeai) (3.1.2)\n",
            "Requirement already satisfied: pyasn1<0.7.0,>=0.4.6 in /usr/local/lib/python3.10/dist-packages (from pyasn1-modules>=0.2.1->google-auth>=2.15.0->google-generativeai) (0.6.0)\n",
            "Requirement already satisfied: charset-normalizer<4,>=2 in /usr/local/lib/python3.10/dist-packages (from requests<3.0.0.dev0,>=2.18.0->google-api-core->google-generativeai) (3.3.2)\n",
            "Requirement already satisfied: idna<4,>=2.5 in /usr/local/lib/python3.10/dist-packages (from requests<3.0.0.dev0,>=2.18.0->google-api-core->google-generativeai) (3.7)\n",
            "Requirement already satisfied: urllib3<3,>=1.21.1 in /usr/local/lib/python3.10/dist-packages (from requests<3.0.0.dev0,>=2.18.0->google-api-core->google-generativeai) (2.0.7)\n",
            "Requirement already satisfied: certifi>=2017.4.17 in /usr/local/lib/python3.10/dist-packages (from requests<3.0.0.dev0,>=2.18.0->google-api-core->google-generativeai) (2024.2.2)\n"
          ]
        }
      ],
      "source": [
        "!pip install -U google-generativeai\n",
        "import google.generativeai as genai\n",
        "from google.colab import userdata"
      ]
    },
    {
      "cell_type": "code",
      "source": [
        "GOOGLE_API_KEY=userdata.get('GOOGLE_API_KEY')\n",
        "genai.configure(api_key=GOOGLE_API_KEY)"
      ],
      "metadata": {
        "id": "ySYWnEXKy0bq"
      },
      "execution_count": 12,
      "outputs": []
    },
    {
      "cell_type": "code",
      "source": [
        "for m in genai.list_models():\n",
        "  if 'generateContent' in m.supported_generation_methods:\n",
        "    print(m.name)\n"
      ],
      "metadata": {
        "colab": {
          "base_uri": "https://localhost:8080/",
          "height": 139
        },
        "id": "zemR4dTBy7Iq",
        "outputId": "1f82c9b1-d200-40a0-ffae-3f2e4b2933bf"
      },
      "execution_count": 13,
      "outputs": [
        {
          "output_type": "stream",
          "name": "stdout",
          "text": [
            "models/gemini-1.0-pro\n",
            "models/gemini-1.0-pro-001\n",
            "models/gemini-1.0-pro-latest\n",
            "models/gemini-1.0-pro-vision-latest\n",
            "models/gemini-1.5-pro-latest\n",
            "models/gemini-pro\n",
            "models/gemini-pro-vision\n"
          ]
        }
      ]
    },
    {
      "cell_type": "code",
      "source": [
        "model = genai.GenerativeModel('gemini-1.0-pro')\n"
      ],
      "metadata": {
        "id": "GLRsPlRDzAei"
      },
      "execution_count": 14,
      "outputs": []
    },
    {
      "cell_type": "code",
      "source": [
        "response = model.generate_content(\"Como aprender inglês\")\n",
        "print(\"Resposta\", response.text)"
      ],
      "metadata": {
        "colab": {
          "base_uri": "https://localhost:8080/",
          "height": 1000
        },
        "id": "xD0xqb1VzGZJ",
        "outputId": "c5222eb6-b630-403d-9290-623fdc90b4e6"
      },
      "execution_count": 15,
      "outputs": [
        {
          "output_type": "stream",
          "name": "stdout",
          "text": [
            "Resposta **Como Aprender Inglês**\n",
            "\n",
            "**1. Defina Metas e Motivação:**\n",
            "\n",
            "* Determine por que você quer aprender inglês e estabeleça metas claras.\n",
            "* Identifique situações específicas em que você usará o idioma.\n",
            "* Mantenha-se motivado lembrando seus objetivos e celebrando seu progresso.\n",
            "\n",
            "**2. Mergulhe na Língua:**\n",
            "\n",
            "* Assista a filmes e programas de TV em inglês.\n",
            "* Ouça música e podcasts em inglês.\n",
            "* Leia livros, artigos e notícias em inglês.\n",
            "* Envolva-se com falantes nativos ou participe de grupos de conversação online.\n",
            "\n",
            "**3. Concentre-se na Compreensão:**\n",
            "\n",
            "* Comece entendendo o básico: vocabulário, gramática e frases comuns.\n",
            "* Pratique ouvir e ler em inglês para melhorar sua compreensão.\n",
            "* Use legendas ou transcrições para ajudar no início.\n",
            "\n",
            "**4. Pratique Falar:**\n",
            "\n",
            "* Encontre oportunidades para falar em inglês.\n",
            "* Junte-se a grupos de conversação ou faça parceria com um falante nativo.\n",
            "* Grave-se falando e revise sua pronúncia e fluência.\n",
            "\n",
            "**5. Aprenda Gramática e Vocabulário:**\n",
            "\n",
            "* Compreenda as regras básicas da gramática inglesa.\n",
            "* Expanda seu vocabulário estudando novas palavras e expressões.\n",
            "* Use flashcards, aplicativos de aprendizado ou cursos online para fortalecer sua compreensão.\n",
            "\n",
            "**6. Seja Consistente:**\n",
            "\n",
            "* Dedique um tempo regular para aprender inglês.\n",
            "* Estabeleça um cronograma de estudo e cumpra-o.\n",
            "* Encontre maneiras divertidas e envolventes de praticar o idioma.\n",
            "\n",
            "**7. Use Recursos:**\n",
            "\n",
            "* Aproveite aplicativos de aprendizagem de idiomas, sites de tutoria online e cursos.\n",
            "* Junte-se a grupos de estudo ou contrate um tutor.\n",
            "* Participe de eventos e atividades da comunidade relacionadas ao idioma.\n",
            "\n",
            "**8. Tenha Paciência e Persistência:**\n",
            "\n",
            "* Aprender um idioma leva tempo e esforço.\n",
            "* Não desanime com erros ou desafios.\n",
            "* Continue praticando, fique motivado e desfrute do processo de aprendizagem.\n",
            "\n",
            "**9. Busque Apoio:**\n",
            "\n",
            "* Conecte-se com outros alunos de inglês ou falantes nativos.\n",
            "* Participe de fóruns online ou grupos de mídia social para obter dicas e suporte.\n",
            "* Não hesite em pedir ajuda quando precisar.\n",
            "\n",
            "**10. Divirta-se:**\n",
            "\n",
            "* Encontre maneiras de tornar o aprendizado divertido e envolvente.\n",
            "* Assistir a filmes, ler livros e ouvir música pode ser uma ótima forma de praticar.\n",
            "* Aproveite o processo e celebre seus sucessos ao longo do caminho.\n"
          ]
        }
      ]
    }
  ]
}